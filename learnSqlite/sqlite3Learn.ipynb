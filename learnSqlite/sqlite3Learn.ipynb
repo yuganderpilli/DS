{
 "cells": [
  {
   "cell_type": "code",
   "execution_count": 2,
   "metadata": {},
   "outputs": [],
   "source": [
    "import sqlite3\n",
    "\n",
    "cursor=sqlite3.connect('example.db')\n"
   ]
  },
  {
   "cell_type": "code",
   "execution_count": 7,
   "metadata": {},
   "outputs": [
    {
     "ename": "AttributeError",
     "evalue": "'sqlite3.Connection' object has no attribute 'fetchall'",
     "output_type": "error",
     "traceback": [
      "\u001b[1;31m---------------------------------------------------------------------------\u001b[0m",
      "\u001b[1;31mAttributeError\u001b[0m                            Traceback (most recent call last)",
      "Cell \u001b[1;32mIn[7], line 6\u001b[0m\n\u001b[0;32m      1\u001b[0m \u001b[38;5;66;03m# Creating an database \u001b[39;00m\n\u001b[0;32m      3\u001b[0m cursor\u001b[38;5;241m.\u001b[39mexecute(\u001b[38;5;124m'''\u001b[39m\u001b[38;5;124m \u001b[39m\n\u001b[0;32m      4\u001b[0m \u001b[38;5;124mselect * from employees\u001b[39m\n\u001b[0;32m      5\u001b[0m \u001b[38;5;124m'''\u001b[39m)\n\u001b[1;32m----> 6\u001b[0m rows\u001b[38;5;241m=\u001b[39m\u001b[43mcursor\u001b[49m\u001b[38;5;241;43m.\u001b[39;49m\u001b[43mfetchall\u001b[49m()\n\u001b[0;32m      8\u001b[0m \u001b[38;5;28;01mfor\u001b[39;00m row \u001b[38;5;129;01min\u001b[39;00m rows:\n\u001b[0;32m      9\u001b[0m     \u001b[38;5;28mprint\u001b[39m(row)\n",
      "\u001b[1;31mAttributeError\u001b[0m: 'sqlite3.Connection' object has no attribute 'fetchall'"
     ]
    }
   ],
   "source": [
    "# Creating an database \n",
    "\n",
    "cursor.execute(''' \n",
    "select * from employees\n",
    "''')\n",
    "rows=rows = cursor.fetchall()\n",
    "\n",
    "for row in rows:\n",
    "    print(row)"
   ]
  }
 ],
 "metadata": {
  "kernelspec": {
   "display_name": "Python 3",
   "language": "python",
   "name": "python3"
  },
  "language_info": {
   "codemirror_mode": {
    "name": "ipython",
    "version": 3
   },
   "file_extension": ".py",
   "mimetype": "text/x-python",
   "name": "python",
   "nbconvert_exporter": "python",
   "pygments_lexer": "ipython3",
   "version": "3.12.0"
  }
 },
 "nbformat": 4,
 "nbformat_minor": 2
}
